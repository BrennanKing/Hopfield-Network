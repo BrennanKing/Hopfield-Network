{
 "cells": [
  {
   "cell_type": "code",
   "execution_count": 1,
   "metadata": {
    "id": "TYXN9RQR3Oun"
   },
   "outputs": [],
   "source": [
    "import numpy as np\n",
    "import numpy.random as random\n",
    "import matplotlib.pyplot as plt\n",
    "import pickle, gzip, urllib.request, json"
   ]
  },
  {
   "cell_type": "code",
   "execution_count": 2,
   "metadata": {
    "id": "x3789t0d3Oup"
   },
   "outputs": [],
   "source": [
    "#To ensure reproducibility\n",
    "random.seed(11)\n",
    "np.random.seed(11)"
   ]
  },
  {
   "cell_type": "code",
   "execution_count": 3,
   "metadata": {
    "colab": {
     "base_uri": "https://localhost:8080/",
     "height": 356
    },
    "id": "DyF0-8gk3Oup",
    "outputId": "9ca9621f-f207-4a38-ef42-057ecd6deee2"
   },
   "outputs": [],
   "source": [
    "# Load the dataset\n",
    "with gzip.open('mnist.pkl.gz', 'rb') as f:\n",
    "    train_set, valid_set, test_set = pickle.load(f, encoding='latin1')\n",
    "\n",
    "# Get the data into arrays\n",
    "images = train_set[0]\n",
    "labels = train_set[1]\n",
    "\n",
    "# Put aside an array for the patterns\n",
    "# This will be one image per digit (ground truth for that category)\n",
    "patterns = np.zeros((10,784))\n",
    "\n",
    "# Set aside one image per class to store (10 images in total), random selection\n",
    "for category in range(10):\n",
    "    inclass = [i for i in range(labels.shape[0]) if labels[i] == category]\n",
    "    patterns[category,:] = 1.0*(images[inclass[random.randint(0,len(inclass))],:] > 0)"
   ]
  },
  {
   "cell_type": "code",
   "execution_count": 4,
   "metadata": {
    "id": "sEgNFH9Y3Ouq"
   },
   "outputs": [
    {
     "data": {
      "image/png": "[encoded data removed]",
      "text/plain": [
       "<Figure size 640x480 with 10 Axes>"
      ]
     },
     "metadata": {},
     "output_type": "display_data"
    }
   ],
   "source": [
    "#Plot the patterns we're going to store\n",
    "fig, axs = plt.subplots(1,10)\n",
    "for c in range(10):\n",
    "    axs[c].imshow(patterns[c,:].reshape((28,28)), cmap='gray')\n",
    "    axs[c].axis(\"off\")\n",
    "plt.show()"
   ]
  },
  {
   "cell_type": "code",
   "execution_count": 5,
   "metadata": {
    "id": "WI0ygT4Z3Ouq"
   },
   "outputs": [],
   "source": [
    "class hopfield_network(object):\n",
    "    \"\"\"\n",
    "    Here is a class for a hopfield network.\n",
    "    \"\"\"\n",
    "\n",
    "    # The initialization function for the hopfield network\n",
    "    def __init__(self,N):\n",
    "        \"\"\"\n",
    "        __init__(N)\n",
    "\n",
    "        Initializing the Hopfield network with N units, empty weight matrices, and all states as -1.\n",
    "\n",
    "        Parameters:\n",
    "         - N: the number of units in the network\n",
    "        \"\"\"\n",
    "        # Number of units\n",
    "        self.N = N  \n",
    "\n",
    "        # N x N weight matrix, initialized with all zero entries\n",
    "        self.weights = np.zeros((N, N))  \n",
    "\n",
    "        # Initialize all neurons to -1 for now\n",
    "        # We will always provide a starting state for the network so this doesn't actually matter\n",
    "        self.state = np.full(N, -1)  \n",
    "\n",
    "    # The function for setting the activity state of the network\n",
    "    def set_state(self,activity):\n",
    "        \"\"\"\n",
    "        set_state(activity)\n",
    "\n",
    "        Sets the state of the network to the pattern given by activity.\n",
    "\n",
    "        Parameters:\n",
    "         - activity: the activity state that we want our hopfield network to take on\n",
    "\n",
    "        You do not need to change this function.\n",
    "        \"\"\"\n",
    "\n",
    "        # set the state to activity\n",
    "        self.state = activity\n",
    "\n",
    "\n",
    "\n",
    "    # The function for updating the state of the network\n",
    "    def update(self):\n",
    "        \"\"\"\n",
    "        update()\n",
    "\n",
    "        Updates the state of a single unit that is chosen at random.\n",
    "\n",
    "        Returns:\n",
    "        - the updated state of the network.\n",
    "        \"\"\"\n",
    "\n",
    "        # Randomly select a unit to be updated\n",
    "        i = random.randint(0, self.N - 1)\n",
    "\n",
    "        # Compute the new state based on the sign of the weighted sum of other neurons\n",
    "        # This is using a threshold theta = 0\n",
    "        state_sign = np.sign(np.dot(self.weights[i], self.state))\n",
    "\n",
    "        # State is updated to either -1 or 1\n",
    "        self.state[i] = 1 if state_sign == 1 else -1\n",
    "\n",
    "        return self.state\n",
    "\n",
    "    # The function for storing one image at a time\n",
    "    def store_one(self,image):\n",
    "        \"\"\"\n",
    "        Stores one pattern into the Hopfield network through Hebbian learning.\n",
    "\n",
    "        Parameters:\n",
    "        - image: 1D array of length N that represents a 28 x 28 image\n",
    "\n",
    "        NOTE: image is in binary but our network has bipolar activity states\n",
    "        \"\"\"\n",
    "\n",
    "        # Convert the binary image to bipolar to store the representation of the image in the network\n",
    "        bipolar_image = binary_to_bipolar(image)\n",
    "\n",
    "        # Design a one-pattern-at-a-time learning rule function\n",
    "        # How will you calculate the weight and threshold updates for the network?\n",
    "        # I do the weight updates just fine but WHAT DOES IT MEAN BY THRESHOLD UPDATES???\n",
    "\n",
    "        # Hebbian learning rule involves the outer product of the pattern with itself\n",
    "        self.weights += np.outer(bipolar_image, bipolar_image)\n",
    "\n",
    "        # There shouldn't be any self connections in the network so we can set the diagonal of the weight matrix to 0s\n",
    "        np.fill_diagonal(self.weights, 0)\n",
    "\n",
    "    # The function for storing multiple images in one shot\n",
    "    def store_multi(self,images):\n",
    "        \"\"\"\n",
    "        Stores multiple patterns at once into the Hopfield network using Hebbian learning\n",
    "\n",
    "        Parameters:\n",
    "        - images: 2D array of shape (p, N) where p is the number of patterns and N is the number of units in the network\n",
    "\n",
    "        NOTE: images is in binary, so we have to do the same conversion to bipolar as we did in store_one\n",
    "        \"\"\"\n",
    "\n",
    "        # Finding out how many patterns there are, this will be our normalization constant\n",
    "        num_patterns = images.shape[0]\n",
    "        \n",
    "        # Convert the binary image to bipolar to store the representation of the images in the network\n",
    "        bipolar_images = binary_to_bipolar(images)\n",
    "\n",
    "        # Compute the weight matrix using matrix multiplication of transpose and original\n",
    "        # Get the sum over all training patterns\n",
    "        self.weights += np.dot(bipolar_images.T, bipolar_images) / num_patterns\n",
    "\n",
    "        # There shouldn't be any self connections in the network so we can set the diagonal of the weight matrix to 0s\n",
    "        np.fill_diagonal(self.weights, 0)"
   ]
  },
  {
   "cell_type": "code",
   "execution_count": 6,
   "metadata": {
    "id": "9yxWAdQu3Our"
   },
   "outputs": [],
   "source": [
    "# Some helper functions for generating test images\n",
    "\n",
    "  # Helper function to convert the patterns of the binary images to be bipolar\n",
    "def binary_to_bipolar(binary_image):\n",
    "    \"\"\"\n",
    "    Convert a binary image {0, 1} to bipolar {-1, 1}.\n",
    "\n",
    "    Parameters:\n",
    "    - binary_image: 1D array with binary values {0, 1}\n",
    "\n",
    "    Returns:\n",
    "    - 1D array with bipolar values {-1, 1}\n",
    "    \"\"\"\n",
    "    # 0 becomes -1 and 1 remains as 1\n",
    "    return 2 * binary_image - 1\n",
    "\n",
    "\n",
    "# The function for generating a noisy version of an image\n",
    "def image_noise(image,noise_level=0.1):\n",
    "    \"\"\"\n",
    "    new_image = test_noise(image)\n",
    "\n",
    "    This function takes an image, converts it from binary to bipolar, adds noise to it, and returns it.\n",
    "\n",
    "    Parameters:\n",
    "    - image: 1D array with binary values {0, 1}\n",
    "    - noise_level: between 0-1, try experimenting with this\n",
    "\n",
    "    Returns:\n",
    "    - noisy_bipolar_image: 1D array with noisy bipolar values {-1, 1}\n",
    "    \"\"\"\n",
    "    # We want to store bipolar patterns in our network\n",
    "    bipolar_image = binary_to_bipolar(image)\n",
    "\n",
    "    # create a mask for adding noise to the image\n",
    "    image_mask = random.uniform(size=image.shape) < noise_level\n",
    "\n",
    "    # Flip bipolar values where the mask is on (i.e. change -1 to 1, and 1 to -1)\n",
    "    noisy_bipolar_image = np.where(image_mask, -bipolar_image, bipolar_image)\n",
    "\n",
    "    return noisy_bipolar_image\n",
    "\n",
    "\n",
    "# The function for generating a combo of two images\n",
    "def image_combo(image1,image2,image1_weight=0.5):\n",
    "    \"\"\"\n",
    "    new_image = test_combo(image1,image2)\n",
    "\n",
    "    This function takes a pair of images, combines them, and converts the result to bipolar before returning it.\n",
    "\n",
    "    Parameters:\n",
    "    - image1: 1D array with binary values {0, 1}\n",
    "    - image2: 1D array with binary values {0, 1}\n",
    "    - image1_weight: between 0-1, try experimenting with this\n",
    "\n",
    "    Returns:\n",
    "    - bipolar_combo: 1D array with bipolar values {-1, 1} sample from either image1 or image2\n",
    "    \"\"\"\n",
    "\n",
    "    # Create a mask for mixing the images\n",
    "    # Picks which pixels from image1 will be used\n",
    "    image1_mask = random.uniform(size=image1.shape) < image1_weight\n",
    "\n",
    "    # Combine the images by using the mask, the result is still in binary\n",
    "    binary_combo = image1_mask*image1 + (1-image1_mask)*image2\n",
    "\n",
    "    # Convert binary to bipolar\n",
    "    bipolar_combo = binary_to_bipolar(binary_combo)\n",
    "\n",
    "    return bipolar_combo"
   ]
  },
  {
   "cell_type": "code",
   "execution_count": 7,
   "metadata": {
    "id": "-wXQWYjH3Our"
   },
   "outputs": [
    {
     "data": {
      "image/png": "[encoded data removed]",
      "text/plain": [
       "<Figure size 640x480 with 9 Axes>"
      ]
     },
     "metadata": {},
     "output_type": "display_data"
    }
   ],
   "source": [
    "# Test the helper functions to make sure they work\n",
    "\n",
    "# Pick any two images to test the helper functions\n",
    "# I have chosen 0 and 1\n",
    "image1 = patterns[0]\n",
    "image2 = patterns[1]\n",
    "\n",
    "# Create a little array for storage\n",
    "test_images = np.zeros((2,3,784))\n",
    "\n",
    "# Generate a series of noise images\n",
    "test_images[0,0,:] = image_noise(image1)\n",
    "test_images[0,1,:] = image_noise(image1,noise_level=0.3)\n",
    "test_images[0,2,:] = image_noise(image1,noise_level=0.5)\n",
    "\n",
    "# Generate a series of combo images\n",
    "test_images[1,0,:] = image_combo(image1,image2,image1_weight=0.2)\n",
    "test_images[1,1,:] = image_combo(image1,image2)\n",
    "test_images[1,2,:] = image_combo(image1,image2,image1_weight=0.8)\n",
    "\n",
    "# Plot the images, plus the originals on top\n",
    "fig, axs = plt.subplots(3,3)\n",
    "axs[0,0].imshow(image1.reshape((28,28)), cmap='gray')\n",
    "axs[0,0].axis(\"off\")\n",
    "axs[0,1].imshow(image2.reshape((28,28)), cmap='gray')\n",
    "axs[0,1].axis(\"off\")\n",
    "axs[0,2].axis(\"off\")\n",
    "for c in range(3):\n",
    "    axs[1,c].imshow(test_images[0,c,:].reshape((28,28)), cmap='gray')\n",
    "    axs[1,c].axis(\"off\")\n",
    "    axs[2,c].imshow(test_images[1,c,:].reshape((28,28)), cmap='gray')\n",
    "    axs[2,c].axis(\"off\")\n",
    "plt.show()"
   ]
  },
  {
   "cell_type": "code",
   "execution_count": 8,
   "metadata": {
    "id": "uuGUXTyY3Our"
   },
   "outputs": [],
   "source": [
    "# Create a Hopfield network and train it\n",
    "\n",
    "# Flag for whether to store one pattern at a time\n",
    "one_pattern = False\n",
    "\n",
    "# Construct the network with 784 units, one for each pixel in the 28 x 28 image\n",
    "hnet = hopfield_network(784)\n",
    "    \n",
    "# I AM ONLY STORING TWO PATTERNS AT A TIME TO AVOID ISSUES WITH INTERFERENCE\n",
    "# Here is where you can define which patters you would like the network to store\n",
    "# Feel free to change them to any digit 0-9\n",
    "training_patterns = np.array([patterns[0], patterns[1]])\n",
    "\n",
    "# Store the patterns one at a time\n",
    "if one_pattern:\n",
    "    for pattern in training_patterns:\n",
    "        hnet.store_one(pattern)\n",
    "\n",
    "# Store all of the patterns at once\n",
    "else:\n",
    "    hnet.store_multi(training_patterns)"
   ]
  },
  {
   "cell_type": "code",
   "execution_count": 9,
   "metadata": {
    "id": "2kFQ8Uqz3Our"
   },
   "outputs": [
    {
     "data": {
      "image/png": "[encoded data removed]",
      "text/plain": [
       "<Figure size 640x480 with 20 Axes>"
      ]
     },
     "metadata": {},
     "output_type": "display_data"
    }
   ],
   "source": [
    "# Plot generated images from your Hopfield network as it updates after receiving an initial pattern that is\n",
    "# a noisy version of an image that was stored\n",
    "\n",
    "# Number of time-steps to run the network for\n",
    "# Note that we are performing multiple updates at each time step!\n",
    "# But we only store an activity state once per time step\n",
    "numsteps = 10\n",
    "\n",
    "# Create an array for storing activity states over time\n",
    "activity = np.zeros((numsteps,784))\n",
    "\n",
    "# Test using the noisy version of an image as a starting state\n",
    "# I'm picking 0 because that is a pattern that I have stored, but you can change it to any pattern\n",
    "image = patterns[0]\n",
    "\n",
    "# Store the starting activity state and set the network to that state\n",
    "activity[0,:] = image_noise(image, noise_level=0.3)\n",
    "hnet.set_state(np.copy(activity[0,:]))\n",
    "\n",
    "for t in range(numsteps-1):\n",
    "    # Perform 400 updates at each time step\n",
    "    for x in range(400):\n",
    "        hnet.update()\n",
    "    activity[t+1,:] = hnet.update()\n",
    "\n",
    "# plot the results\n",
    "fig, axs = plt.subplots(2,numsteps)\n",
    "axs[0,0].imshow(activity[0,:].reshape((28,28)), cmap='gray')\n",
    "axs[0,1].imshow(image.reshape((28,28)), cmap='gray')\n",
    "for c in range(numsteps):\n",
    "    axs[1,c].imshow(activity[c,:].reshape((28,28)), cmap='gray')\n",
    "    axs[0,c].axis(\"off\")\n",
    "    axs[1,c].axis(\"off\")\n",
    "plt.show()"
   ]
  },
  {
   "cell_type": "code",
   "execution_count": 10,
   "metadata": {
    "id": "oc43n3-q3Ous"
   },
   "outputs": [
    {
     "data": {
      "image/png": "[encoded data removed]",
      "text/plain": [
       "<Figure size 640x480 with 20 Axes>"
      ]
     },
     "metadata": {},
     "output_type": "display_data"
    }
   ],
   "source": [
    "# Plot generated images from your Hopfield network as it updates after receiving an initial pattern that is\n",
    "# a combination of two images that were stored\n",
    "\n",
    "# Number of time-steps to run the network for\n",
    "# Note that we are performing multiple updates at each time step!\n",
    "# But we only store an activity state once per time step\n",
    "numsteps = 10\n",
    "\n",
    "# Create an array for storing activity states over time\n",
    "activity = np.zeros((numsteps,784))\n",
    "\n",
    "# Test using a combo of two images\n",
    "# I'm picking 0 and 1 because those are the patterns that I have stored, but you can change them to any patterns\n",
    "image1 = patterns[0]\n",
    "image2 = patterns[1]\n",
    "\n",
    "# Store the starting activity state and set the network to that state\n",
    "activity[0,:] = image_combo(image1,image2)\n",
    "hnet.set_state(np.copy(activity[0,:]))\n",
    "\n",
    "# Multiple updates per time step, but only storing the activity state once\n",
    "for t in range(numsteps-1):\n",
    "    for x in range(350):\n",
    "        hnet.update()\n",
    "    activity[t+1,:] = hnet.update()\n",
    "\n",
    "# plot the results\n",
    "fig, axs = plt.subplots(2,numsteps)\n",
    "axs[0,0].imshow(activity[0,:].reshape((28,28)), cmap='gray')\n",
    "axs[0,1].imshow(image1.reshape((28,28)), cmap='gray')\n",
    "axs[0,2].imshow(image2.reshape((28,28)), cmap='gray')\n",
    "for c in range(numsteps):\n",
    "    axs[1,c].imshow(activity[c,:].reshape((28,28)), cmap='gray')\n",
    "    axs[0,c].axis(\"off\")\n",
    "    axs[1,c].axis(\"off\")\n",
    "plt.show()"
   ]
  },
  {
   "cell_type": "code",
   "execution_count": null,
   "metadata": {
    "id": "r1HgfNE03Ous"
   },
   "outputs": [],
   "source": []
  }
 ],
 "metadata": {
  "colab": {
   "provenance": []
  },
  "kernelspec": {
   "display_name": "Python 3 (ipykernel)",
   "language": "python",
   "name": "python3"
  },
  "language_info": {
   "codemirror_mode": {
    "name": "ipython",
    "version": 3
   },
   "file_extension": ".py",
   "mimetype": "text/x-python",
   "name": "python",
   "nbconvert_exporter": "python",
   "pygments_lexer": "ipython3",
   "version": "3.12.7"
  }
 },
 "nbformat": 4,
 "nbformat_minor": 4
}
